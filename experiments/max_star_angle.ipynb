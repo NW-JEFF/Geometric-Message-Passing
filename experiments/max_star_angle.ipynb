{
 "cells": [
  {
   "cell_type": "code",
   "execution_count": 59,
   "id": "4da1c99e-7b32-4646-8917-5a1f06b09f6b",
   "metadata": {
    "ExecutionIndicator": {
     "show": true
    },
    "execution": {
     "iopub.execute_input": "2023-09-13T22:21:20.773968Z",
     "iopub.status.busy": "2023-09-13T22:21:20.773653Z",
     "iopub.status.idle": "2023-09-13T22:21:21.017037Z",
     "shell.execute_reply": "2023-09-13T22:21:21.016564Z",
     "shell.execute_reply.started": "2023-09-13T22:21:20.773945Z"
    },
    "tags": []
   },
   "outputs": [
    {
     "name": "stdout",
     "output_type": "stream",
     "text": [
      "The autoreload extension is already loaded. To reload it, use:\n",
      "  %reload_ext autoreload\n",
      "PyTorch version 1.12.1+cu113\n",
      "PyG version 2.3.1\n",
      "e3nn version 0.5.1\n",
      "Using device: cuda\n"
     ]
    }
   ],
   "source": [
    "%load_ext autoreload\n",
    "%autoreload 2\n",
    "\n",
    "import sys\n",
    "sys.path.append('../')\n",
    "\n",
    "import random\n",
    "import math\n",
    "import torch\n",
    "import torch_geometric\n",
    "from torch.utils.data import Dataset, random_split\n",
    "from torch_geometric.data import Data\n",
    "from torch_geometric.loader import DataLoader\n",
    "from torch_geometric.utils import to_undirected\n",
    "\n",
    "import e3nn\n",
    "from functools import partial\n",
    "import itertools\n",
    "\n",
    "print(\"PyTorch version {}\".format(torch.__version__))\n",
    "print(\"PyG version {}\".format(torch_geometric.__version__))\n",
    "print(\"e3nn version {}\".format(e3nn.__version__))\n",
    "\n",
    "from experiments.utils.plot_utils import plot_2d, plot_3d\n",
    "from experiments.utils.train_utils import run_experiment_reg\n",
    "from models import SchNetModel, DimeNetPPModel, SphereNetModel, EGNNModel, GVPGNNModel, TFNModel, MACEModel\n",
    "\n",
    "# Set the device\n",
    "device = torch.device('cuda' if torch.cuda.is_available() else 'cpu')\n",
    "print(f\"Using device: {device}\")"
   ]
  },
  {
   "cell_type": "code",
   "execution_count": 93,
   "id": "51d99fd1-9d1e-49bb-9068-532634cb22ff",
   "metadata": {
    "ExecutionIndicator": {
     "show": true
    },
    "execution": {
     "iopub.execute_input": "2023-09-13T23:26:57.927249Z",
     "iopub.status.busy": "2023-09-13T23:26:57.926808Z",
     "iopub.status.idle": "2023-09-13T23:26:57.952241Z",
     "shell.execute_reply": "2023-09-13T23:26:57.951782Z",
     "shell.execute_reply.started": "2023-09-13T23:26:57.927231Z"
    },
    "tags": []
   },
   "outputs": [],
   "source": [
    "def create_star_graphs(num=5, fold=3, dim=2, target=\"max\", seed = 0):\n",
    "    \"\"\"Generate star graphs with unit-length spokes where angles are randomly assigned.\"\"\"\n",
    "\n",
    "    assert dim == 2 or dim == 3, \"dimension must be 2 or 3.\"\n",
    "    assert target in [\"max\", \"mean\"], \"regression target must be 'max' or 'mean' of angles\"\n",
    "\n",
    "    torch.manual_seed(seed)\n",
    "    random.seed(seed)\n",
    "\n",
    "    dataset = []\n",
    "\n",
    "    for _ in range(num):\n",
    "        # atoms representing central and non-central nodes\n",
    "        atoms = torch.LongTensor([0,] + [0,] * fold)\n",
    "        # edges read vertically; star graph: 0 -> 1, 0 -> 2 ...\n",
    "        edge_index = torch.LongTensor( [ [0,] * fold, list(range(1, fold + 1)) ] )\n",
    "        # origin and first spoke\n",
    "        x = torch.Tensor([1, 0, 0])\n",
    "        pos = [torch.Tensor([0, 0, 0]), x]  \n",
    "\n",
    "        if dim == 2:\n",
    "            for count in range(1, fold):\n",
    "                # random angle between 0 and 2*pi\n",
    "                random_angle = random.uniform(0, 2 * math.pi)\n",
    "                new_point = torch.Tensor([math.cos(random_angle), math.sin(random_angle), 0])\n",
    "                pos.append(new_point)\n",
    "\n",
    "        elif dim == 3:\n",
    "            for count in range(1, fold):\n",
    "                theta = random.uniform(0, 2 * math.pi)  # Random angle around z-axis\n",
    "                phi = random.uniform(0, math.pi)  # Random angle from z-axis (polar angle)\n",
    "                new_point = torch.Tensor([\n",
    "                    math.sin(phi) * math.cos(theta),\n",
    "                    math.sin(phi) * math.sin(theta),\n",
    "                    math.cos(phi)\n",
    "                ])\n",
    "                pos.append(new_point)\n",
    "\n",
    "        # compute all possible angles\n",
    "        spoke_positions = pos[1:]\n",
    "        angles = []\n",
    "        for combo in itertools.combinations(spoke_positions, 2):\n",
    "            v1, v2 = combo\n",
    "            angle = torch.acos(torch.dot(v1, v2) / (torch.norm(v1) * torch.norm(v2)))\n",
    "            angles.append(angle)\n",
    "        \n",
    "        if target == \"max\":\n",
    "            y = torch.Tensor([ max(angles) ])\n",
    "        elif target == \"mean\":\n",
    "            y = torch.Tensor([ sum(angles)/len(angles) ])\n",
    "\n",
    "        pos = torch.stack(pos)\n",
    "        data = Data(atoms=atoms, edge_index=edge_index, pos=pos, y=y)\n",
    "        data.edge_index = to_undirected(data.edge_index)\n",
    "        dataset.append(data)\n",
    "\n",
    "    return dataset"
   ]
  },
  {
   "cell_type": "code",
   "execution_count": 105,
   "id": "221aaca4-c5ea-40f1-a132-69053e484efc",
   "metadata": {
    "ExecutionIndicator": {
     "show": true
    },
    "execution": {
     "iopub.execute_input": "2023-09-13T23:35:23.516184Z",
     "iopub.status.busy": "2023-09-13T23:35:23.515738Z",
     "iopub.status.idle": "2023-09-13T23:35:23.610938Z",
     "shell.execute_reply": "2023-09-13T23:35:23.609703Z",
     "shell.execute_reply.started": "2023-09-13T23:35:23.516166Z"
    },
    "tags": []
   },
   "outputs": [],
   "source": [
    "dataset = create_star_graphs(100, 7, 3)\n",
    "# for data in dataset[:3]:\n",
    "#     plot_3d(data, lim=1)\n",
    "\n",
    "train_ratio = 0.1\n",
    "val_ratio = 0.3\n",
    "test_ratio = 0.6\n",
    "\n",
    "num_samples = len(dataset)\n",
    "num_train = int(train_ratio * num_samples)\n",
    "num_val = int(val_ratio * num_samples)\n",
    "num_test = num_samples - num_train - num_val\n",
    "\n",
    "train_dataset, val_dataset, test_dataset = random_split(\n",
    "    dataset, [num_train, num_val, num_test], generator=torch.Generator().manual_seed(0)\n",
    ")\n",
    "\n",
    "batch_size = 32\n",
    "train_loader = DataLoader(train_dataset, batch_size=batch_size, shuffle=True)\n",
    "val_loader = DataLoader(val_dataset, batch_size=batch_size, shuffle=False)\n",
    "test_loader = DataLoader(test_dataset, batch_size=batch_size, shuffle=False)"
   ]
  },
  {
   "cell_type": "code",
   "execution_count": null,
   "id": "c87c73a8-d33f-4567-80d0-442de923f015",
   "metadata": {
    "ExecutionIndicator": {
     "show": true
    },
    "execution": {
     "iopub.execute_input": "2023-09-13T23:35:25.425543Z",
     "iopub.status.busy": "2023-09-13T23:35:25.425225Z"
    },
    "tags": []
   },
   "outputs": [
    {
     "name": "stdout",
     "output_type": "stream",
     "text": [
      "Running experiment for EGNNModel (cuda).\n"
     ]
    },
    {
     "data": {
      "application/vnd.jupyter.widget-view+json": {
       "model_id": "c2c6fa774e3449aaaec1ba3fd922660d",
       "version_major": 2,
       "version_minor": 0
      },
      "text/plain": [
       "  0%|          | 0/10 [00:00<?, ?it/s]"
      ]
     },
     "metadata": {},
     "output_type": "display_data"
    }
   ],
   "source": [
    "# Set parameters\n",
    "model_name = \"egnn\"\n",
    "correlation = 3\n",
    "max_ell = 5\n",
    "\n",
    "model = {\n",
    "    \"schnet\": SchNetModel,\n",
    "    \"dimenet\": DimeNetPPModel,\n",
    "    \"spherenet\": SphereNetModel,\n",
    "    \"egnn\": partial(EGNNModel, equivariant_pred=True),\n",
    "    \"gvp\": partial(GVPGNNModel, equivariant_pred=True),\n",
    "    \"tfn\": partial(TFNModel, max_ell=max_ell, equivariant_pred=True),\n",
    "    \"mace\": partial(MACEModel, max_ell=max_ell, correlation=correlation, equivariant_pred=True),\n",
    "}[model_name](num_layers=1, in_dim=1, out_dim=1)\n",
    "\n",
    "# regression task\n",
    "best_val_acc, test_acc, train_time = run_experiment_reg(\n",
    "    model, \n",
    "    dataloader,\n",
    "    val_loader, \n",
    "    test_loader,\n",
    "    n_epochs=100,\n",
    "    n_times=10,\n",
    "    device=device,\n",
    "    verbose=False\n",
    ")"
   ]
  },
  {
   "cell_type": "code",
   "execution_count": null,
   "id": "d1db8fe8-071c-4513-b81b-a63afd6dd03f",
   "metadata": {},
   "outputs": [],
   "source": []
  }
 ],
 "metadata": {
  "kernelspec": {
   "display_name": "Python 3 (ipykernel)",
   "language": "python",
   "name": "python3"
  },
  "language_info": {
   "codemirror_mode": {
    "name": "ipython",
    "version": 3
   },
   "file_extension": ".py",
   "mimetype": "text/x-python",
   "name": "python",
   "nbconvert_exporter": "python",
   "pygments_lexer": "ipython3",
   "version": "3.9.15"
  }
 },
 "nbformat": 4,
 "nbformat_minor": 5
}
