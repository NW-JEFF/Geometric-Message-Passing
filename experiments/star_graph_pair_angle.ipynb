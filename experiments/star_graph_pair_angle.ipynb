{
 "cells": [
  {
   "cell_type": "code",
   "execution_count": 93,
   "id": "c218ec29-3d76-4001-ba98-b4d3d3f26645",
   "metadata": {
    "ExecutionIndicator": {
     "show": true
    },
    "execution": {
     "iopub.execute_input": "2023-09-17T22:41:51.092260Z",
     "iopub.status.busy": "2023-09-17T22:41:51.091946Z",
     "iopub.status.idle": "2023-09-17T22:41:51.125545Z",
     "shell.execute_reply": "2023-09-17T22:41:51.125093Z",
     "shell.execute_reply.started": "2023-09-17T22:41:51.092241Z"
    },
    "tags": []
   },
   "outputs": [
    {
     "name": "stdout",
     "output_type": "stream",
     "text": [
      "The autoreload extension is already loaded. To reload it, use:\n",
      "  %reload_ext autoreload\n",
      "PyTorch version 1.12.1+cu113\n",
      "PyG version 2.3.1\n",
      "e3nn version 0.5.1\n",
      "Using device: cuda\n"
     ]
    }
   ],
   "source": [
    "%load_ext autoreload\n",
    "%autoreload 2\n",
    "\n",
    "import sys\n",
    "sys.path.append('../')\n",
    "\n",
    "import random\n",
    "import math\n",
    "import torch\n",
    "import torch_geometric\n",
    "from torch.utils.data import Dataset, random_split\n",
    "from torch_geometric.data import Data\n",
    "from torch_geometric.loader import DataLoader\n",
    "from torch_geometric.utils import to_undirected\n",
    "import matplotlib.pyplot as plt\n",
    "\n",
    "import e3nn\n",
    "from functools import partial\n",
    "import itertools\n",
    "\n",
    "print(\"PyTorch version {}\".format(torch.__version__))\n",
    "print(\"PyG version {}\".format(torch_geometric.__version__))\n",
    "print(\"e3nn version {}\".format(e3nn.__version__))\n",
    "\n",
    "from experiments.utils.plot_utils import plot_2d, plot_3d\n",
    "from experiments.utils.train_utils import run_experiment_reg\n",
    "from models import SchNetModel, DimeNetPPModel, SphereNetModel, EGNNModel, GVPGNNModel, TFNModel, MACEModel\n",
    "\n",
    "# Set the device\n",
    "device = torch.device('cuda' if torch.cuda.is_available() else 'cpu')\n",
    "print(f\"Using device: {device}\")"
   ]
  },
  {
   "cell_type": "code",
   "execution_count": 196,
   "id": "44e6a006-8b22-41e2-8a5e-f2f80cc07627",
   "metadata": {
    "ExecutionIndicator": {
     "show": true
    },
    "execution": {
     "iopub.execute_input": "2023-09-18T13:08:27.696964Z",
     "iopub.status.busy": "2023-09-18T13:08:27.696361Z",
     "iopub.status.idle": "2023-09-18T13:08:27.733695Z",
     "shell.execute_reply": "2023-09-18T13:08:27.733216Z",
     "shell.execute_reply.started": "2023-09-18T13:08:27.696935Z"
    },
    "tags": []
   },
   "outputs": [],
   "source": [
    "def create_paired_star_graphs(num=5, fold=[5,], dim=3, n_pairs=2, seed=0):\n",
    "    \"\"\"Generate star graphs where spokes have random angles; certain nodes are paired up to be used for angle calculation.\n",
    "    \n",
    "    ----------\n",
    "    Parameters:\n",
    "    - num (int): number of star graphs to generate\n",
    "    - fold (list of int): number of spokes to be considered when generating star graphs\n",
    "    - dim (int): range of random angles (2D or 3D)\n",
    "    - n_pairs (int): number of distinct pairs of nodes to be used in angle calculation\n",
    "    - seed (int): random seed\n",
    "    \"\"\"\n",
    "\n",
    "    assert dim == 2 or dim == 3, \"dimension must be 2 or 3.\"\n",
    "    assert n_pairs * 2 <= min(fold), \"minimum fold must be >= two times the number of pairs.\"\n",
    "\n",
    "    torch.manual_seed(seed)\n",
    "    random.seed(seed)\n",
    "\n",
    "    dataset = []\n",
    "\n",
    "    for _ in range(num):\n",
    "        n_spoke = random.choice(fold)\n",
    "        # atoms representing central and non-central nodes\n",
    "        pair_labels = []\n",
    "        for i in range(n_pairs):\n",
    "            pair_labels += [i+1,] * 2\n",
    "        # the center (1st node) has lable 0, each pair has a unique number, and the rest has another\n",
    "        atoms = torch.LongTensor( [0,] + pair_labels + [n_pairs+1,] * (n_spoke - 2*n_pairs))\n",
    "\n",
    "        # edges read vertically; star graph: 0 -> 1, 0 -> 2 ...\n",
    "        edge_index = torch.LongTensor( [ [0,] * n_spoke, list(range(1, n_spoke + 1)) ] )\n",
    "\n",
    "        # fix the center\n",
    "        pos = [torch.Tensor([0, 0, 0])]  \n",
    "\n",
    "        if dim == 2:\n",
    "            for _ in range(n_spoke):\n",
    "                # random angle between 0 and 2*pi\n",
    "                random_angle = random.uniform(0, 2 * math.pi)\n",
    "                new_point = torch.Tensor([math.cos(random_angle), math.sin(random_angle), 0])\n",
    "                pos.append(new_point)\n",
    "\n",
    "        elif dim == 3:\n",
    "            for _ in range(n_spoke):\n",
    "                theta = random.uniform(0, 2 * math.pi)  # Random angle around z-axis\n",
    "                phi = random.uniform(0, math.pi)  # Random angle from z-axis (polar angle)\n",
    "                new_point = torch.Tensor([\n",
    "                    math.sin(phi) * math.cos(theta),\n",
    "                    math.sin(phi) * math.sin(theta),\n",
    "                    math.cos(phi)\n",
    "                ])\n",
    "                pos.append(new_point)\n",
    "\n",
    "        # scale pos to increase variance of angles\n",
    "        # avg_vec = sum(pos)\n",
    "        # alpha = random.uniform(-1, 2)\n",
    "        # pos1 = [p + alpha * avg_vec for p in pos[1:]]\n",
    "        # pos = pos[:1] + [v / torch.norm(v, p=2) for v in pos1] \n",
    "        \n",
    "        # compute angles between paired nodes and the origin\n",
    "        target_angles = []\n",
    "        spoke_positions = pos[1:(2*n_pairs + 1)]\n",
    "        for j in range(n_pairs):\n",
    "            v1, v2 = spoke_positions[2*j], spoke_positions[2*j+1]\n",
    "            angle = torch.acos(torch.dot(v1, v2) / (torch.norm(v1) * torch.norm(v2)))\n",
    "            target_angles.append(angle)\n",
    "\n",
    "        y = torch.Tensor(target_angles)\n",
    "        \n",
    "        pos = torch.stack(pos)\n",
    "        data = Data(atoms=atoms, edge_index=edge_index, pos=pos, y=y)\n",
    "        data.edge_index = to_undirected(data.edge_index)\n",
    "        dataset.append(data)\n",
    "\n",
    "    return dataset"
   ]
  },
  {
   "cell_type": "code",
   "execution_count": 197,
   "id": "4242d8a9-46a5-427d-8836-6df0e04d167a",
   "metadata": {
    "ExecutionIndicator": {
     "show": true
    },
    "execution": {
     "iopub.execute_input": "2023-09-18T13:08:27.881123Z",
     "iopub.status.busy": "2023-09-18T13:08:27.880803Z",
     "iopub.status.idle": "2023-09-18T13:08:29.639232Z",
     "shell.execute_reply": "2023-09-18T13:08:29.638782Z",
     "shell.execute_reply.started": "2023-09-18T13:08:27.881108Z"
    },
    "tags": []
   },
   "outputs": [
    {
     "data": {
      "image/png": "[encoded data removed]",
      "text/plain": [
       "<Figure size 1000x400 with 2 Axes>"
      ]
     },
     "metadata": {},
     "output_type": "display_data"
    }
   ],
   "source": [
    "dataset = create_paired_star_graphs(num=5000, fold=[7,], dim=2, n_pairs=2)\n",
    "\n",
    "angle1 = []\n",
    "angle2 = []\n",
    "\n",
    "for data in dataset:\n",
    "    angle1.append(data.y[0])\n",
    "    angle2.append(data.y[1])\n",
    "    \n",
    "plt.figure(figsize=(10, 4))\n",
    "plt.subplot(1,2,1)\n",
    "plt.hist(angle1, bins=150)\n",
    "plt.subplot(1,2,2)\n",
    "plt.hist(angle2, bins=150)\n",
    "plt.show()"
   ]
  },
  {
   "cell_type": "code",
   "execution_count": 212,
   "id": "1a6bc066-8868-4d46-8132-ed9a54dbbc15",
   "metadata": {
    "ExecutionIndicator": {
     "show": true
    },
    "execution": {
     "iopub.execute_input": "2023-09-18T13:25:14.630098Z",
     "iopub.status.busy": "2023-09-18T13:25:14.629543Z",
     "iopub.status.idle": "2023-09-18T13:25:14.661075Z",
     "shell.execute_reply": "2023-09-18T13:25:14.660170Z",
     "shell.execute_reply.started": "2023-09-18T13:25:14.630080Z"
    },
    "tags": []
   },
   "outputs": [],
   "source": [
    "def create_paired_star_graphs_with_two_centers(num=5, fold=[5,], dim=3, n_pairs=2, single_center=False, seed=0):\n",
    "    \"\"\"Generate star graphs where spokes have random angles; certain nodes are paired to be used for angle calculation.\n",
    "    There are two centers (connected to every other node) and angles are computed with respect to both centers.\n",
    "    \n",
    "    ----------\n",
    "    Parameters:\n",
    "    - num (int): number of star graphs to generate\n",
    "    - fold (list of int): number of spokes to be considered when generating star graphs\n",
    "    - dim (int): range of random angles (2D or 3D)\n",
    "    - n_pairs (int): number of distinct pairs of nodes to be used in angle calculation\n",
    "    - single_center (Bool): whether or not to use angles wrt the first center only\n",
    "    - seed (int): random seed\n",
    "    \"\"\"\n",
    "\n",
    "    assert dim == 2 or dim == 3, \"dimension must be 2 or 3.\"\n",
    "    assert n_pairs * 2 <= min(fold), \"minimum fold must be >= two times the number of pairs.\"\n",
    "\n",
    "    torch.manual_seed(seed)\n",
    "    random.seed(seed)\n",
    "\n",
    "    dataset = []\n",
    "\n",
    "    for _ in range(num):\n",
    "        n_spoke = random.choice(fold)\n",
    "        # atoms representing central and non-central nodes\n",
    "        pair_labels = []\n",
    "        for i in range(n_pairs):\n",
    "            pair_labels += [i+1,] * 2\n",
    "        # the two centers have label 0, one at the front and the other at the back; each pair has a unique number, and the rest has another\n",
    "        atoms = torch.LongTensor( [0,] + pair_labels + [n_pairs+1,] * (n_spoke - 2*n_pairs) + [0,])  # (n_spoke + 2)\n",
    "\n",
    "        # the two centers are connected with every other node\n",
    "        edges1 = [0,] * n_spoke + [n_spoke + 1,] * n_spoke\n",
    "        edges2 = list(range(1, n_spoke + 1)) * 2\n",
    "        edge_index = torch.LongTensor( [ edges1, edges2 ] )\n",
    "\n",
    "        pos = []  \n",
    "\n",
    "        # generate the rest of the nodes, including the second center\n",
    "        if dim == 2:\n",
    "            for _ in range(n_spoke+2):\n",
    "                # random angle between 0 and 2*pi\n",
    "                random_angle = random.uniform(0, 2 * math.pi)\n",
    "                new_point = torch.Tensor([math.cos(random_angle), math.sin(random_angle), 0])\n",
    "                pos.append(new_point)\n",
    "\n",
    "        elif dim == 3:\n",
    "            for _ in range(n_spoke+2):\n",
    "                theta = random.uniform(0, 2 * math.pi)  # Random angle around z-axis\n",
    "                phi = random.uniform(0, math.pi)  # Random angle from z-axis (polar angle)\n",
    "                new_point = torch.Tensor([\n",
    "                    math.sin(phi) * math.cos(theta),\n",
    "                    math.sin(phi) * math.sin(theta),\n",
    "                    math.cos(phi)\n",
    "                ])\n",
    "                pos.append(new_point)\n",
    "\n",
    "        # scale pos of spokes to increase variance of target angles\n",
    "        # avg_vec = sum(pos)\n",
    "        # alpha = random.uniform(-1, 2)\n",
    "        # pos1 = [p + alpha * avg_vec for p in pos[1:-1]]\n",
    "        # pos = pos[:1] + [v / torch.norm(v, p=2) for v in pos1] + pos[-1:]\n",
    "        \n",
    "        # compute angles between paired nodes and the first center\n",
    "        target_angles1 = []\n",
    "        spoke_positions = pos[1:(2*n_pairs + 1)]\n",
    "        for j in range(n_pairs):\n",
    "            v1, v2 = spoke_positions[2*j] - pos[0], spoke_positions[2*j+1] - pos[0]\n",
    "            angle = torch.acos(torch.dot(v1, v2) / (torch.norm(v1) * torch.norm(v2)))\n",
    "            target_angles1.append(angle)\n",
    "\n",
    "        # compute angles between paired nodes and the second center\n",
    "        target_angles2 = []\n",
    "        spoke_positions = pos[1:(2*n_pairs + 1)]\n",
    "        for j in range(n_pairs):\n",
    "            v1, v2 = spoke_positions[2*j] - pos[-1], spoke_positions[2*j+1] - pos[-1]\n",
    "            angle = torch.acos(torch.dot(v1, v2) / (torch.norm(v1) * torch.norm(v2)))\n",
    "            target_angles2.append(angle)\n",
    "\n",
    "        if single_center:\n",
    "            y = torch.Tensor(target_angles1)  # (n_pair)\n",
    "        else:\n",
    "            y = torch.Tensor(target_angles1 + target_angles2)  # (n_pair * 2)\n",
    "        \n",
    "        pos = torch.stack(pos)  # (n_spoke + 2, 3)\n",
    "        data = Data(atoms=atoms, edge_index=edge_index, pos=pos, y=y)\n",
    "        data.edge_index = to_undirected(data.edge_index)\n",
    "        dataset.append(data)\n",
    "\n",
    "    return dataset"
   ]
  },
  {
   "cell_type": "code",
   "execution_count": 214,
   "id": "7b271b5c-3279-4314-8c40-1178c944c40c",
   "metadata": {
    "ExecutionIndicator": {
     "show": true
    },
    "execution": {
     "iopub.execute_input": "2023-09-18T13:25:22.604871Z",
     "iopub.status.busy": "2023-09-18T13:25:22.604422Z",
     "iopub.status.idle": "2023-09-18T13:25:25.265388Z",
     "shell.execute_reply": "2023-09-18T13:25:25.264927Z",
     "shell.execute_reply.started": "2023-09-18T13:25:22.604854Z"
    },
    "tags": []
   },
   "outputs": [
    {
     "data": {
      "image/png": "[encoded data removed]",
      "text/plain": [
       "<Figure size 1000x400 with 4 Axes>"
      ]
     },
     "metadata": {},
     "output_type": "display_data"
    }
   ],
   "source": [
    "dataset = create_paired_star_graphs_with_two_centers(num=5000, fold=[7,], dim=3, n_pairs=2, seed=0)\n",
    "\n",
    "angle1 = []\n",
    "angle2 = []\n",
    "angle3 = []\n",
    "angle4 = []\n",
    "\n",
    "for data in dataset:\n",
    "    angle1.append(data.y[0])\n",
    "    angle2.append(data.y[1])\n",
    "    angle3.append(data.y[2])\n",
    "    angle4.append(data.y[3])\n",
    "    \n",
    "plt.figure(figsize=(10, 4))\n",
    "plt.subplot(2,2,1)\n",
    "plt.hist(angle1, bins=200)\n",
    "plt.subplot(2,2,2)\n",
    "plt.hist(angle2, bins=200)\n",
    "plt.subplot(2,2,3)\n",
    "plt.hist(angle3, bins=200)\n",
    "plt.subplot(2,2,4)\n",
    "plt.hist(angle4, bins=200)\n",
    "plt.show()"
   ]
  },
  {
   "cell_type": "code",
   "execution_count": 172,
   "id": "93146676-88ac-4f6c-bce2-2d37a43cb360",
   "metadata": {
    "ExecutionIndicator": {
     "show": true
    },
    "execution": {
     "iopub.execute_input": "2023-09-18T12:43:47.213908Z",
     "iopub.status.busy": "2023-09-18T12:43:47.213465Z",
     "iopub.status.idle": "2023-09-18T12:43:47.239618Z",
     "shell.execute_reply": "2023-09-18T12:43:47.239178Z",
     "shell.execute_reply.started": "2023-09-18T12:43:47.213890Z"
    },
    "tags": []
   },
   "outputs": [],
   "source": [
    "def create_star_graphs(num=5, fold=[3,], dim=3, target=\"max\", seed=0):\n",
    "    \"\"\"Generate star graphs where spokes have random angles; target can be the max angle or the average angle.\n",
    "    \n",
    "    ----------\n",
    "    Parameters:\n",
    "    - num (int): number of star graphs to generate\n",
    "    - fold (list of int): number of spokes to be considered when generating star graphs\n",
    "    - dim (int): range of random angles (2D or 3D)\n",
    "    - target (str): metric to be used in pooling angles\n",
    "    - seed (int): random seed\n",
    "    \"\"\"\n",
    "\n",
    "    assert dim == 2 or dim == 3, \"dimension must be 2 or 3.\"\n",
    "    assert target in [\"max\", \"mean\"], \"regression target must be 'max' or 'mean' of angles\"\n",
    "\n",
    "    torch.manual_seed(seed)\n",
    "    random.seed(seed)\n",
    "\n",
    "    dataset = []\n",
    "\n",
    "    for _ in range(num):\n",
    "        n_spoke = random.choice(fold)\n",
    "        # atoms representing central and non-central nodes; all nodes have label 0\n",
    "        atoms = torch.LongTensor([0,] + [0,] * n_spoke)\n",
    "        # edges read vertically; star graph: 0 -> 1, 0 -> 2 ...\n",
    "        edge_index = torch.LongTensor( [ [0,] * n_spoke, list(range(1, n_spoke + 1)) ] )\n",
    "        \n",
    "        # fix the center\n",
    "        pos = [torch.Tensor([0, 0, 0])]  \n",
    "\n",
    "        if dim == 2:\n",
    "            for _ in range(n_spoke):\n",
    "                # random angle between 0 and 2*pi\n",
    "                random_angle = random.uniform(0, 2 * math.pi)\n",
    "                new_point = torch.Tensor([math.cos(random_angle), math.sin(random_angle), 0])\n",
    "                pos.append(new_point)\n",
    "\n",
    "        elif dim == 3:\n",
    "            for _ in range(n_spoke):\n",
    "                theta = random.uniform(0, 2 * math.pi)  # Random angle around z-axis\n",
    "                phi = random.uniform(0, math.pi)  # Random angle from z-axis (polar angle)\n",
    "                new_point = torch.Tensor([\n",
    "                    math.sin(phi) * math.cos(theta),\n",
    "                    math.sin(phi) * math.sin(theta),\n",
    "                    math.cos(phi)\n",
    "                ])\n",
    "                pos.append(new_point)\n",
    "\n",
    "        # scale pos to increase variance of max angles\n",
    "        avg_vec = sum(pos)\n",
    "        alpha = random.uniform(-1, 2)\n",
    "        pos1 = [p + alpha * avg_vec for p in pos[1:]]\n",
    "        pos = pos[:1] + [v / torch.norm(v, p=2) for v in pos1] \n",
    "        \n",
    "        # compute all possible angles\n",
    "        spoke_positions = pos[1:]\n",
    "        angles = []\n",
    "        for combo in itertools.combinations(spoke_positions, 2):\n",
    "            v1, v2 = combo\n",
    "            angle = torch.acos(torch.dot(v1, v2) / (torch.norm(v1) * torch.norm(v2)))\n",
    "            angles.append(angle)\n",
    "        \n",
    "        if target == \"max\":\n",
    "            y = torch.Tensor([ max(angles) ])\n",
    "        elif target == \"mean\":\n",
    "            y = torch.Tensor([ sum(angles)/len(angles) ])\n",
    "\n",
    "        pos = torch.stack(pos)\n",
    "        data = Data(atoms=atoms, edge_index=edge_index, pos=pos, y=y)\n",
    "        data.edge_index = to_undirected(data.edge_index)\n",
    "        dataset.append(data)\n",
    "\n",
    "    return dataset"
   ]
  },
  {
   "cell_type": "code",
   "execution_count": 173,
   "id": "044155f8-a6b8-4698-a9d5-5717412a9012",
   "metadata": {
    "ExecutionIndicator": {
     "show": true
    },
    "execution": {
     "iopub.execute_input": "2023-09-18T12:43:47.240692Z",
     "iopub.status.busy": "2023-09-18T12:43:47.240422Z",
     "iopub.status.idle": "2023-09-18T12:43:48.293743Z",
     "shell.execute_reply": "2023-09-18T12:43:48.293293Z",
     "shell.execute_reply.started": "2023-09-18T12:43:47.240678Z"
    },
    "tags": []
   },
   "outputs": [
    {
     "data": {
      "image/png": "[encoded data removed]",
      "text/plain": [
       "<Figure size 500x400 with 1 Axes>"
      ]
     },
     "metadata": {},
     "output_type": "display_data"
    }
   ],
   "source": [
    "dataset = create_star_graphs(num=1000, fold=[7,], dim=2, target=\"max\")\n",
    "\n",
    "angle1 = []\n",
    "\n",
    "for data in dataset:\n",
    "    angle1.append(data.y[0])\n",
    "    \n",
    "plt.figure(figsize=(5, 4))\n",
    "plt.hist(angle1, bins=200)\n",
    "plt.show()"
   ]
  },
  {
   "cell_type": "code",
   "execution_count": 129,
   "id": "bfacf9ef-407b-4b66-9e2f-82efcb467b3b",
   "metadata": {
    "ExecutionIndicator": {
     "show": true
    },
    "execution": {
     "iopub.execute_input": "2023-09-18T12:01:58.209598Z",
     "iopub.status.busy": "2023-09-18T12:01:58.209036Z",
     "iopub.status.idle": "2023-09-18T12:01:58.250506Z",
     "shell.execute_reply": "2023-09-18T12:01:58.250066Z",
     "shell.execute_reply.started": "2023-09-18T12:01:58.209577Z"
    },
    "tags": []
   },
   "outputs": [],
   "source": [
    "def create_paired_complete_graphs_with_full_centers(num=5, n_nodes=[6,], dim=3, n_pairs=2, seed=0):\n",
    "    \"\"\"Generate complete graphs where spokes have random angles; certain nodes are paired up to be used for angle calculation.\n",
    "       Angles are calculated with respect to all nodes.\n",
    "    \n",
    "    ----------\n",
    "    Parameters:\n",
    "    - num (int): number of complete graphs to generate\n",
    "    - n_nodes (list of int): number of nodes of the complete graph\n",
    "    - dim (int): range of random angles (2D or 3D)\n",
    "    - n_pairs (int): number of distinct pairs of nodes to be used in angle prediction\n",
    "    - seed (int): random seed\n",
    "    \"\"\"\n",
    "\n",
    "    assert dim == 2 or dim == 3, \"dimension must be 2 or 3.\"\n",
    "    assert n_pairs * 2 + 1 <= min(n_nodes), \"minimum number of nodes must be >= two times the number of pairs + one center.\"\n",
    "\n",
    "    torch.manual_seed(seed)\n",
    "    random.seed(seed)\n",
    "\n",
    "    dataset = []\n",
    "\n",
    "    for _ in range(num):\n",
    "        n_node = random.choice(n_nodes)\n",
    "        pair_labels = []\n",
    "        for i in range(n_pairs):\n",
    "            pair_labels += [i+1,] * 2\n",
    "        # each pair has a unique number and all other nodes have label 0\n",
    "        atoms = torch.LongTensor( pair_labels + [0,] * (n_node - 2*n_pairs) )\n",
    "\n",
    "        # edges read vertically; complete graph: 0 -> 1, 0 -> 2, ..., 1 -> 2, 1 -> 3, ...\n",
    "        edge_index = torch.LongTensor([\n",
    "            [i for i in range(n_node) for j in range(i + 1, n_node)],\n",
    "            [j for i in range(n_node) for j in range(i + 1, n_node)]\n",
    "        ])\n",
    "\n",
    "        pos = []\n",
    "\n",
    "        if dim == 2:\n",
    "            for _ in range(n_node):\n",
    "                # random angle between 0 and 2*pi\n",
    "                random_angle = random.uniform(0, 2 * math.pi)\n",
    "                new_point = torch.Tensor([math.cos(random_angle), math.sin(random_angle), 0])\n",
    "                pos.append(new_point)\n",
    "\n",
    "        elif dim == 3:\n",
    "            for _ in range(n_node):\n",
    "                theta = random.uniform(0, 2 * math.pi)  # Random angle around z-axis\n",
    "                phi = random.uniform(0, math.pi)  # Random angle from z-axis (polar angle)\n",
    "                new_point = torch.Tensor([\n",
    "                    math.sin(phi) * math.cos(theta),\n",
    "                    math.sin(phi) * math.sin(theta),\n",
    "                    math.cos(phi)\n",
    "                ])\n",
    "                pos.append(new_point)\n",
    "\n",
    "        # for each node, compute angles formed between specified node pairs using the current node as the center (may produce 0 if current node is in specified node pairs)\n",
    "        y = []\n",
    "        spoke_positions = pos[:(2*n_pairs)]\n",
    "        for center in range(n_node):\n",
    "            target_angles = []\n",
    "            for j in range(n_pairs):\n",
    "                v1, v2 = spoke_positions[2*j] - pos[center], spoke_positions[2*j+1] - pos[center]\n",
    "                if torch.norm(v1) == 0 or torch.norm(v2) == 0:\n",
    "                    angle = 0\n",
    "                else:\n",
    "                    angle = torch.acos(torch.dot(v1, v2) / (torch.norm(v1) * torch.norm(v2)))\n",
    "                target_angles.append(angle)\n",
    "            y += target_angles\n",
    "        y = torch.Tensor(y)\n",
    "        \n",
    "        pos = torch.stack(pos)\n",
    "        data = Data(atoms=atoms, edge_index=edge_index, pos=pos, y=y)\n",
    "        data.edge_index = to_undirected(data.edge_index)\n",
    "        dataset.append(data)\n",
    "\n",
    "    return dataset"
   ]
  },
  {
   "cell_type": "code",
   "execution_count": 136,
   "id": "3f293f0a-268d-41a5-9631-bdb62ad366fd",
   "metadata": {
    "ExecutionIndicator": {
     "show": true
    },
    "execution": {
     "iopub.execute_input": "2023-09-18T12:05:35.331377Z",
     "iopub.status.busy": "2023-09-18T12:05:35.330829Z",
     "iopub.status.idle": "2023-09-18T12:05:39.754008Z",
     "shell.execute_reply": "2023-09-18T12:05:39.753543Z",
     "shell.execute_reply.started": "2023-09-18T12:05:35.331358Z"
    },
    "tags": []
   },
   "outputs": [
    {
     "data": {
      "image/png": "[encoded data removed]",
      "text/plain": [
       "<Figure size 1000x400 with 2 Axes>"
      ]
     },
     "metadata": {},
     "output_type": "display_data"
    }
   ],
   "source": [
    "dataset = create_paired_complete_graphs_with_full_centers(num=5000, n_nodes=[7,], dim=2, n_pairs=2)\n",
    "\n",
    "# for data in dataset[:3]:\n",
    "#     plot_3d(data, lim=1)\n",
    "\n",
    "angle1 = []\n",
    "angle2 = []\n",
    "\n",
    "for data in dataset:\n",
    "    angle1.append(data.y[1])\n",
    "    angle2.append(data.y[8])\n",
    "    \n",
    "plt.figure(figsize=(10, 4))\n",
    "plt.subplot(1,2,1)\n",
    "plt.hist(angle1, bins=200)\n",
    "plt.subplot(1,2,2)\n",
    "plt.hist(angle2, bins=200)\n",
    "plt.show()"
   ]
  },
  {
   "cell_type": "code",
   "execution_count": 218,
   "id": "a1ed7a0e-822d-45e4-bcc6-a2232f4d21a8",
   "metadata": {
    "ExecutionIndicator": {
     "show": true
    },
    "execution": {
     "iopub.execute_input": "2023-09-18T15:00:59.639113Z",
     "iopub.status.busy": "2023-09-18T15:00:59.638655Z",
     "iopub.status.idle": "2023-09-18T15:00:59.660239Z",
     "shell.execute_reply": "2023-09-18T15:00:59.659811Z",
     "shell.execute_reply.started": "2023-09-18T15:00:59.639094Z"
    },
    "tags": []
   },
   "outputs": [
    {
     "name": "stdout",
     "output_type": "stream",
     "text": [
      "tensor([2, 8])\n"
     ]
    }
   ],
   "source": [
    "tensor_2d = torch.tensor([[1, 2, 3],\n",
    "                          [4, 5, 6],\n",
    "                          [7, 8, 9]])\n",
    "\n",
    "# Create a new tensor with the first and last rows\n",
    "new_tensor = tensor_2d[[0, -1], 1]\n",
    "print(new_tensor)"
   ]
  },
  {
   "cell_type": "code",
   "execution_count": null,
   "id": "7dfbc99a-96ec-41fd-97e7-24cfbaf23936",
   "metadata": {
    "tags": []
   },
   "outputs": [],
   "source": []
  },
  {
   "cell_type": "code",
   "execution_count": null,
   "id": "95455e3a-de5a-45eb-b63b-5ade873b705b",
   "metadata": {},
   "outputs": [],
   "source": []
  }
 ],
 "metadata": {
  "kernelspec": {
   "display_name": "Python 3 (ipykernel)",
   "language": "python",
   "name": "python3"
  },
  "language_info": {
   "codemirror_mode": {
    "name": "ipython",
    "version": 3
   },
   "file_extension": ".py",
   "mimetype": "text/x-python",
   "name": "python",
   "nbconvert_exporter": "python",
   "pygments_lexer": "ipython3",
   "version": "3.9.15"
  }
 },
 "nbformat": 4,
 "nbformat_minor": 5
}
